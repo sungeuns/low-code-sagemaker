{
 "cells": [
  {
   "cell_type": "markdown",
   "id": "b23cdd84-c0a9-4161-9615-e56cca05c1b1",
   "metadata": {
    "tags": []
   },
   "source": [
    "## SageMaker built-in algorithm (Image classification)\n",
    "\n",
    "SageMaker에서는 여러가지 built-in 알고리즘을 제공하고 있습니다.\n",
    "- built-in 종류 : https://docs.aws.amazon.com/sagemaker/latest/dg/algos.html\n",
    "\n",
    "그 중에서 이번에는 MobileNet 기반의 알고리즘을 활용해서 image classification 해 보도록 하겠습니다.\n",
    "- image classification w/ TF\n",
    "  - 문서 : https://docs.aws.amazon.com/sagemaker/latest/dg/image-classification-tensorflow.html \n",
    "  - 예시 노트북 : https://github.com/aws/amazon-sagemaker-examples/blob/main/introduction_to_amazon_algorithms/image_classification_tensorflow/Amazon_TensorFlow_Image_Classification.ipynb\n"
   ]
  },
  {
   "cell_type": "code",
   "execution_count": null,
   "id": "a383a48b-d1d4-4a2e-ac24-ab84f88b3aab",
   "metadata": {
    "tags": []
   },
   "outputs": [],
   "source": [
    "# !pip install -q sagemaker ipywidgets --upgrade"
   ]
  },
  {
   "cell_type": "code",
   "execution_count": null,
   "id": "d624ac62-c346-4527-ad6e-ef7b0c231f00",
   "metadata": {
    "tags": []
   },
   "outputs": [],
   "source": [
    "import sagemaker, boto3, json\n",
    "from sagemaker.session import Session\n",
    "\n",
    "sagemaker_session = Session()\n",
    "aws_role = sagemaker.get_execution_role()\n",
    "print(aws_role)\n",
    "\n",
    "sagemaker_session = Session()\n",
    "bucket = sagemaker_session.default_bucket()\n",
    "print(bucket)"
   ]
  },
  {
   "cell_type": "code",
   "execution_count": null,
   "id": "170bae10-32e9-4960-8cb4-0a3169369465",
   "metadata": {},
   "outputs": [],
   "source": []
  },
  {
   "cell_type": "code",
   "execution_count": null,
   "id": "1a104794-6830-4f8d-bf0d-97926b95e408",
   "metadata": {
    "tags": []
   },
   "outputs": [],
   "source": [
    "model_id, model_version = \"tensorflow-ic-imagenet-mobilenet-v2-100-224-classification-4\", \"*\""
   ]
  },
  {
   "cell_type": "code",
   "execution_count": null,
   "id": "10a3396d-e7bf-4d08-a7ea-36ba35afb5f7",
   "metadata": {
    "tags": []
   },
   "outputs": [],
   "source": [
    "import IPython\n",
    "from ipywidgets import Dropdown\n",
    "from sagemaker.jumpstart.notebook_utils import list_jumpstart_models\n",
    "from sagemaker.jumpstart.filters import And\n",
    "\n",
    "# Retrieves all TensorFlow Image Classification models made available by SageMaker Built-In Algorithms.\n",
    "filter_value = And(\"task == ic\", \"framework == tensorflow\")\n",
    "ic_models = list_jumpstart_models(filter=filter_value)\n",
    "\n",
    "# display the model-ids in a dropdown, for user to select a model.\n",
    "dropdown = Dropdown(\n",
    "    options=ic_models,\n",
    "    value=model_id,\n",
    "    description=\"SageMaker Built-In TensorFlow Image Classification Models:\",\n",
    "    style={\"description_width\": \"initial\"},\n",
    "    layout={\"width\": \"max-content\"},\n",
    ")\n",
    "display(IPython.display.Markdown(\"### 아래에서 사용할 pre-trained 모델을 선택해 주세요\"))\n",
    "display(dropdown)"
   ]
  },
  {
   "cell_type": "code",
   "execution_count": null,
   "id": "db30ee91-8051-4563-994f-5fd331c63601",
   "metadata": {
    "tags": []
   },
   "outputs": [],
   "source": [
    "print(dropdown.value)"
   ]
  },
  {
   "cell_type": "code",
   "execution_count": null,
   "id": "67bcfbba-2f44-4a2a-b7cd-ae5f92ddbb49",
   "metadata": {
    "tags": []
   },
   "outputs": [],
   "source": [
    "from sagemaker import image_uris, model_uris, script_uris, hyperparameters\n",
    "\n",
    "model_id, model_version = dropdown.value, \"*\"\n",
    "training_instance_type = \"ml.g4dn.2xlarge\"\n",
    "\n",
    "# Retrieve the docker image\n",
    "train_image_uri = image_uris.retrieve(\n",
    "    region=None,\n",
    "    framework=None,\n",
    "    model_id=model_id,\n",
    "    model_version=model_version,\n",
    "    image_scope=\"training\",\n",
    "    instance_type=training_instance_type,\n",
    ")\n",
    "# Retrieve the training script\n",
    "train_source_uri = script_uris.retrieve(\n",
    "    model_id=model_id, model_version=model_version, script_scope=\"training\"\n",
    ")\n",
    "# Retrieve the pre-trained model tarball to further fine-tune\n",
    "train_model_uri = model_uris.retrieve(\n",
    "    model_id=model_id, model_version=model_version, model_scope=\"training\"\n",
    ")"
   ]
  },
  {
   "cell_type": "code",
   "execution_count": null,
   "id": "d87c394b-c677-4a2b-8db2-15ede2f1f5ba",
   "metadata": {},
   "outputs": [],
   "source": []
  },
  {
   "cell_type": "code",
   "execution_count": null,
   "id": "ee3195a6-d1b4-4113-ab59-0080306fc8b1",
   "metadata": {
    "tags": []
   },
   "outputs": [],
   "source": [
    "training_dataset_s3_path = f\"s3://{bucket}/lowcode-sm/wwi-dataset/train/\"\n",
    "s3_output_location = f\"s3://{bucket}/lowcode-sm/logs/image-classification-output/\""
   ]
  },
  {
   "cell_type": "code",
   "execution_count": null,
   "id": "89438107-0637-4b9a-9adb-6c8ff219e06a",
   "metadata": {
    "tags": []
   },
   "outputs": [],
   "source": [
    "print(training_dataset_s3_path)\n",
    "print(s3_output_location)"
   ]
  },
  {
   "cell_type": "code",
   "execution_count": null,
   "id": "eab0c69b-7d2a-4bcc-b327-ec4a54e9171f",
   "metadata": {
    "tags": []
   },
   "outputs": [],
   "source": [
    "from sagemaker import hyperparameters\n",
    "\n",
    "# Retrieve the default hyper-parameters for fine-tuning the model\n",
    "hyperparameters = hyperparameters.retrieve_default(model_id=model_id, model_version=model_version)\n",
    "\n",
    "# [Optional] Override default hyperparameters with custom values\n",
    "hyperparameters[\"epochs\"] = \"8\"\n",
    "print(hyperparameters)"
   ]
  },
  {
   "cell_type": "code",
   "execution_count": null,
   "id": "9b0b98e3-53f6-4ab4-922b-4a498b9fde02",
   "metadata": {
    "tags": []
   },
   "outputs": [],
   "source": [
    "from sagemaker.estimator import Estimator\n",
    "from sagemaker.utils import name_from_base\n",
    "from sagemaker.tuner import HyperparameterTuner\n",
    "\n",
    "training_job_name = name_from_base(f\"wwi-image-classification-{model_id}-transfer-learning\")\n",
    "\n",
    "training_metric_definitions = [\n",
    "    {\"Name\": \"val_accuracy\", \"Regex\": \"val_accuracy: ([0-9\\\\.]+)\"},\n",
    "    {\"Name\": \"val_loss\", \"Regex\": \"val_loss: ([0-9\\\\.]+)\"},\n",
    "    {\"Name\": \"train_accuracy\", \"Regex\": \"- accuracy: ([0-9\\\\.]+)\"},\n",
    "    {\"Name\": \"train_loss\", \"Regex\": \"- loss: ([0-9\\\\.]+)\"},\n",
    "]\n",
    "\n",
    "# Create SageMaker Estimator instance\n",
    "ic_estimator = Estimator(\n",
    "    role=aws_role,\n",
    "    image_uri=train_image_uri,\n",
    "    source_dir=train_source_uri,\n",
    "    model_uri=train_model_uri,\n",
    "    entry_point=\"transfer_learning.py\",\n",
    "    instance_count=1,\n",
    "    instance_type=training_instance_type,\n",
    "    max_run=360000,\n",
    "    hyperparameters=hyperparameters,\n",
    "    output_path=s3_output_location,\n",
    "    base_job_name=training_job_name,\n",
    "    metric_definitions=training_metric_definitions,\n",
    ")"
   ]
  },
  {
   "cell_type": "code",
   "execution_count": null,
   "id": "03573e71-14ac-48ab-bf9a-0ee99d6fd889",
   "metadata": {
    "tags": []
   },
   "outputs": [],
   "source": [
    "ic_estimator.fit({\"training\": training_dataset_s3_path}, logs=True)"
   ]
  },
  {
   "cell_type": "markdown",
   "id": "b542d2b9-f603-4ce2-aec2-f938bce8e4c6",
   "metadata": {},
   "source": [
    "### 학습에 걸리는 시간 예시\n",
    "\n",
    "- MobileNet (tensorflow-ic-imagenet-mobilenet-v2-100-224-classification-4) 5 epoch 학습하는 데 g4dn.2xlarge 에서 5분 이하로 걸립니다.\n",
    "- 위의 모델 10epoch의 경우 330 sec (5.5분) 정도 걸리게 됩니다.\n",
    "- 만일 더 좋은 성능을 내는 모델, 예를들어 EfficientNet (tensorflow-ic-efficientnet-v2-imagenet1k-m) 10 epoch을 학습하는 경우 30분 가까이 걸리게 됩니다."
   ]
  },
  {
   "cell_type": "code",
   "execution_count": null,
   "id": "9846a188-b9a2-48cf-9945-4db78409403d",
   "metadata": {
    "tags": []
   },
   "outputs": [],
   "source": [
    "inference_instance_type = \"ml.m5.large\"\n",
    "\n",
    "# Retrieve the inference docker container uri\n",
    "deploy_image_uri = image_uris.retrieve(\n",
    "    region=None,\n",
    "    framework=None,\n",
    "    image_scope=\"inference\",\n",
    "    model_id=model_id,\n",
    "    model_version=model_version,\n",
    "    instance_type=inference_instance_type,\n",
    ")\n",
    "\n",
    "# Retrieve the inference script uri\n",
    "deploy_source_uri = script_uris.retrieve(\n",
    "    model_id=model_id, model_version=model_version, script_scope=\"inference\"\n",
    ")"
   ]
  },
  {
   "cell_type": "code",
   "execution_count": null,
   "id": "ac26fa0e-bdc3-4a4b-b531-f5f72432c6aa",
   "metadata": {
    "tags": []
   },
   "outputs": [],
   "source": [
    "endpoint_name = name_from_base(f\"wwi-classifier-{model_id}-\")"
   ]
  },
  {
   "cell_type": "code",
   "execution_count": null,
   "id": "2c7a8d49-0426-4602-af4d-5573817aefd1",
   "metadata": {
    "tags": []
   },
   "outputs": [],
   "source": [
    "predictor = ic_estimator.deploy(\n",
    "    initial_instance_count=1,\n",
    "    instance_type=inference_instance_type,\n",
    "    entry_point=\"inference.py\",\n",
    "    image_uri=deploy_image_uri,\n",
    "    source_dir=deploy_source_uri,\n",
    "    endpoint_name=endpoint_name,\n",
    ")"
   ]
  },
  {
   "cell_type": "code",
   "execution_count": null,
   "id": "57a5981d-3c15-4e5c-92bd-3b52c11abe83",
   "metadata": {
    "tags": []
   },
   "outputs": [],
   "source": [
    "from IPython.core.display import HTML"
   ]
  },
  {
   "cell_type": "code",
   "execution_count": null,
   "id": "1805392d-1710-43c8-9d0d-e983dfa2709a",
   "metadata": {
    "tags": []
   },
   "outputs": [],
   "source": [
    "\n",
    "def get_predict_output(image_path):\n",
    "\n",
    "    with open(image_path, \"rb\") as file:\n",
    "        img = file.read()\n",
    "\n",
    "    query_response = predictor.predict(\n",
    "        img, {\"ContentType\": \"application/x-image\", \"Accept\": \"application/json;verbose\"}\n",
    "    )\n",
    "    model_predictions = json.loads(query_response)\n",
    "    predicted_label = model_predictions[\"predicted_label\"]\n",
    "\n",
    "    display(\n",
    "        HTML(\n",
    "            f'<img src={image_path} alt={image_path} align=\"left\" style=\"width: 250px;\"/>'\n",
    "            f\"<figcaption>Predicted Label: {predicted_label}</figcaption>\"\n",
    "        )\n",
    "    )\n"
   ]
  },
  {
   "cell_type": "code",
   "execution_count": null,
   "id": "83edb3c1-9efb-4d90-b6a9-1c91a3c7cdcd",
   "metadata": {},
   "outputs": [],
   "source": []
  },
  {
   "cell_type": "code",
   "execution_count": null,
   "id": "3a9efd8c-b29b-4973-b767-5b465f98b7b1",
   "metadata": {
    "tags": []
   },
   "outputs": [],
   "source": [
    "import os\n",
    "import random\n",
    "test_dir = \"data/wwi-dataset/test\"\n",
    "label_list = os.listdir(test_dir)"
   ]
  },
  {
   "cell_type": "code",
   "execution_count": null,
   "id": "8e56f70d-d464-4020-a4f1-fa1f45614b10",
   "metadata": {
    "tags": []
   },
   "outputs": [],
   "source": [
    "%%time\n",
    "for label in label_list:\n",
    "    test_images = os.listdir(os.path.join(test_dir, label))\n",
    "    random.shuffle(test_images)\n",
    "    img_path = os.path.join(test_dir, label, test_images[0])\n",
    "    get_predict_output(img_path)"
   ]
  },
  {
   "cell_type": "code",
   "execution_count": null,
   "id": "5a98f86a-892e-4599-9d96-3c604a791543",
   "metadata": {
    "tags": []
   },
   "outputs": [],
   "source": []
  },
  {
   "cell_type": "code",
   "execution_count": null,
   "id": "72aa96a1-8deb-4626-b058-274435fbdf15",
   "metadata": {
    "tags": []
   },
   "outputs": [],
   "source": []
  }
 ],
 "metadata": {
  "kernelspec": {
   "display_name": "conda_pytorch_p39",
   "language": "python",
   "name": "conda_pytorch_p39"
  },
  "language_info": {
   "codemirror_mode": {
    "name": "ipython",
    "version": 3
   },
   "file_extension": ".py",
   "mimetype": "text/x-python",
   "name": "python",
   "nbconvert_exporter": "python",
   "pygments_lexer": "ipython3",
   "version": "3.9.15"
  }
 },
 "nbformat": 4,
 "nbformat_minor": 5
}
