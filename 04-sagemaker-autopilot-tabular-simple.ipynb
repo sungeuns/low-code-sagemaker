{
 "cells": [
  {
   "cell_type": "markdown",
   "id": "cb38eb07-09c2-4455-9bdd-4a4963e8453c",
   "metadata": {},
   "source": [
    "## Autopilot 예시\n",
    "\n",
    "\n",
    "- Kaggle housing price 데이터 : https://www.kaggle.com/competitions/house-prices-advanced-regression-techniques\n",
    "- Customer churn 예시 : https://github.com/aws/amazon-sagemaker-examples/blob/main/autopilot/autopilot_customer_churn.ipynb (이 노트북에서 참고한 노트북)\n",
    "- CA housing price 예시 : https://github.com/aws/amazon-sagemaker-examples/blob/main/autopilot/autopilot_california_housing.ipynb\n",
    "\n",
    "\n",
    "\n",
    "### 참고할 내용\n",
    "\n",
    "- Autopilot에서 지원되는 [task](https://docs.aws.amazon.com/sagemaker/latest/dg/autopilot-datasets-problem-types.html) 는 tabular 형태 데이터에 대한 regression/classification 이다.\n",
    "- time series 데이터 타입의 경우 tsfresh 활용해서 지원됨. 예시는 [Blog 글](https://aws.amazon.com/ko/blogs/machine-learning/amazon-sagemaker-autopilot-now-supports-time-series-data/) 을 참고할 것.\n"
   ]
  },
  {
   "cell_type": "code",
   "execution_count": null,
   "id": "2a01f88c-e6dc-49db-9ce1-07474b9357df",
   "metadata": {
    "tags": []
   },
   "outputs": [],
   "source": [
    "import sagemaker, boto3, json\n",
    "from sagemaker.session import Session\n",
    "\n",
    "sagemaker_session = Session()\n",
    "role = sagemaker.get_execution_role()\n",
    "region = boto3.Session().region_name\n",
    "sm_client = boto3.Session().client(service_name=\"sagemaker\", region_name=region)\n",
    "bucket = sagemaker_session.default_bucket()\n",
    "print(bucket)\n"
   ]
  },
  {
   "cell_type": "code",
   "execution_count": null,
   "id": "78997863-1dac-4219-94e5-fa6b5875d735",
   "metadata": {
    "tags": []
   },
   "outputs": [],
   "source": [
    "import pandas as pd\n",
    "import numpy as np"
   ]
  },
  {
   "cell_type": "code",
   "execution_count": null,
   "id": "e60ff187-5053-4d6d-b8cf-53bccb0d2b0d",
   "metadata": {
    "tags": []
   },
   "outputs": [],
   "source": [
    "train_s3_path = f\"s3://{bucket}/lowcode-sm/hp/train.csv\"\n",
    "train_df = pd.read_csv(train_s3_path)\n",
    "train_df"
   ]
  },
  {
   "cell_type": "code",
   "execution_count": null,
   "id": "67c32e7a-5979-4b26-8966-591e8e130619",
   "metadata": {
    "tags": []
   },
   "outputs": [],
   "source": [
    "# test_s3_path = f\"s3://{bucket}/lowcode-sm/hp/test.csv\"\n",
    "# test_df = pd.read_csv(test_s3_path)\n",
    "# test_df"
   ]
  },
  {
   "cell_type": "code",
   "execution_count": null,
   "id": "d733af9f-3b33-4204-b89e-9c4d80efacfe",
   "metadata": {
    "tags": []
   },
   "outputs": [],
   "source": [
    "pred_target = \"SalePrice\"\n",
    "\n",
    "output_path = f\"s3://{bucket}/lowcode-sm/logs/hp-output/\"\n"
   ]
  },
  {
   "cell_type": "markdown",
   "id": "57bd4303-5670-433b-8563-2cdb7ad7ccfd",
   "metadata": {},
   "source": [
    "### 고려할 점\n",
    "\n",
    "- job 파라미터 넘길 때 예시에서는 train 디렉토리만 넘기는데 (train_data.csv 만 있음) prefix 넣는 방식 외에도 file까지 지정할 수 있음.\n",
    "- `S3DataSource` : https://docs.aws.amazon.com/sagemaker/latest/APIReference/API_S3DataSource.html\n",
    "\n",
    "```\n",
    "[ {\"prefix\": \"s3://customer_bucket/some/prefix/\"},\n",
    "\"relative/path/to/custdata-1\",\n",
    "\"relative/path/custdata-2\",\n",
    "...\n",
    "\"relative/path/custdata-N\"\n",
    "] \n",
    "\n",
    "```\n"
   ]
  },
  {
   "cell_type": "code",
   "execution_count": null,
   "id": "7b2b410a-fc33-4bf2-babd-f032812d87a9",
   "metadata": {
    "tags": []
   },
   "outputs": [],
   "source": [
    "input_data_config = [\n",
    "    {\n",
    "        \"DataSource\": {\n",
    "            \"S3DataSource\": {\n",
    "                \"S3DataType\": \"S3Prefix\",\n",
    "                \"S3Uri\": train_s3_path,\n",
    "            }\n",
    "        },\n",
    "        \"TargetAttributeName\": pred_target,\n",
    "    }\n",
    "]\n",
    "\n",
    "output_data_config = {\"S3OutputPath\": output_path}\n"
   ]
  },
  {
   "cell_type": "code",
   "execution_count": null,
   "id": "8c05f99e-5374-47d2-8334-a6f6ef4d39d3",
   "metadata": {
    "tags": []
   },
   "outputs": [],
   "source": [
    "from time import gmtime, strftime, sleep\n",
    "\n",
    "timestamp_suffix = strftime(\"%d-%H-%M-%S\", gmtime())\n",
    "\n",
    "auto_ml_job_name = \"hp-autopilot-\" + timestamp_suffix\n",
    "print(\"AutoMLJobName: \" + auto_ml_job_name)\n",
    "\n",
    "sm_client.create_auto_ml_job(\n",
    "    AutoMLJobName=auto_ml_job_name,\n",
    "    InputDataConfig=input_data_config,\n",
    "    OutputDataConfig=output_data_config,\n",
    "    AutoMLJobConfig={\"CompletionCriteria\": {\"MaxCandidates\": 5}},\n",
    "    RoleArn=role,\n",
    ")"
   ]
  },
  {
   "cell_type": "markdown",
   "id": "e3cfd601-b5d3-4c65-be2f-8a6542ecc176",
   "metadata": {},
   "source": [
    "\n",
    "만일 metric 변경을 원한다면, problem type 도 지정해 주어야 함.\n",
    "  - automl job API 참고 : https://boto3.amazonaws.com/v1/documentation/api/latest/reference/services/sagemaker/client/create_auto_ml_job.html#\n",
    "\n",
    "```\n",
    "sm_client.create_auto_ml_job(\n",
    "    AutoMLJobName=auto_ml_job_name,\n",
    "    InputDataConfig=input_data_config,\n",
    "    OutputDataConfig=output_data_config,\n",
    "    ProblemType=\"Regression\",  # metric 변경 시 필요. 그렇지 않으면 자동으로 판별\n",
    "    AutoMLJobObjective={\"MetricName\": \"RMSE\"},  # regression은 기본적으로 MAE 사용\n",
    "    AutoMLJobConfig={\"CompletionCriteria\": {\"MaxCandidates\": 5}},\n",
    "    RoleArn=role,\n",
    ")\n",
    "```\n",
    "\n",
    "참고로 해당 데이터 (kaggle) 에서의 evalution은 일반적인 RMSE가 아닌 `RMSE(log(pred), log(real))` 로 약간 다르다."
   ]
  },
  {
   "cell_type": "code",
   "execution_count": null,
   "id": "4fe2e82e-0e0f-4656-83b9-6c62de6273cd",
   "metadata": {
    "tags": []
   },
   "outputs": [],
   "source": [
    "print(\"JobStatus - Secondary Status\")\n",
    "print(\"------------------------------\")\n",
    "\n",
    "\n",
    "describe_response = sm_client.describe_auto_ml_job(AutoMLJobName=auto_ml_job_name)\n",
    "print(describe_response[\"AutoMLJobStatus\"] + \" - \" + describe_response[\"AutoMLJobSecondaryStatus\"])\n",
    "job_run_status = describe_response[\"AutoMLJobStatus\"]\n",
    "\n",
    "while job_run_status not in (\"Failed\", \"Completed\", \"Stopped\"):\n",
    "    describe_response = sm_client.describe_auto_ml_job(AutoMLJobName=auto_ml_job_name)\n",
    "    job_run_status = describe_response[\"AutoMLJobStatus\"]\n",
    "\n",
    "    print(\n",
    "        describe_response[\"AutoMLJobStatus\"] + \" - \" + describe_response[\"AutoMLJobSecondaryStatus\"]\n",
    "    )\n",
    "    sleep(30)"
   ]
  },
  {
   "cell_type": "code",
   "execution_count": null,
   "id": "cd3c25b9-a8f8-43c7-9e31-a2d8f5755451",
   "metadata": {},
   "outputs": [],
   "source": []
  },
  {
   "cell_type": "code",
   "execution_count": null,
   "id": "e68b740c-5532-4b87-ac5e-bfbeb04cb368",
   "metadata": {},
   "outputs": [],
   "source": []
  },
  {
   "cell_type": "markdown",
   "id": "5d935cbd-fd90-489f-ba2c-263c69710d12",
   "metadata": {},
   "source": [
    "### Notebook 다운로드\n",
    "\n",
    "자동으로 수행한 작업에 대한 jupyter notebook을 다운로드 하고, 어떠한 과정을 진행했는지를 확인할 수 있습니다."
   ]
  },
  {
   "cell_type": "code",
   "execution_count": null,
   "id": "a952f26b-b850-42f9-80f6-a1da832b27b1",
   "metadata": {
    "tags": []
   },
   "outputs": [],
   "source": [
    "# print(describe_response)\n",
    "print(describe_response[\"AutoMLJobArtifacts\"][\"CandidateDefinitionNotebookLocation\"])\n",
    "print(describe_response[\"AutoMLJobArtifacts\"][\"DataExplorationNotebookLocation\"])\n",
    "\n",
    "candidate_nbk = describe_response[\"AutoMLJobArtifacts\"][\"CandidateDefinitionNotebookLocation\"]\n",
    "data_explore_nbk = describe_response[\"AutoMLJobArtifacts\"][\"DataExplorationNotebookLocation\"]"
   ]
  },
  {
   "cell_type": "code",
   "execution_count": null,
   "id": "15271524-b610-4474-b48f-8f79a735ee4d",
   "metadata": {
    "tags": []
   },
   "outputs": [],
   "source": [
    "def split_s3_path(s3_path):\n",
    "    path_parts = s3_path.replace(\"s3://\", \"\").split(\"/\")\n",
    "    bucket = path_parts.pop(0)\n",
    "    key = \"/\".join(path_parts)\n",
    "    return bucket, key\n",
    "\n",
    "s3_bucket, candidate_nbk_key = split_s3_path(candidate_nbk)\n",
    "_, data_explore_nbk_key = split_s3_path(data_explore_nbk)\n",
    "\n",
    "print(s3_bucket, candidate_nbk_key, data_explore_nbk_key)\n",
    "\n",
    "sagemaker_session.download_data(path=\"./autopilot-sample\", bucket=s3_bucket, key_prefix=candidate_nbk_key)\n",
    "\n",
    "sagemaker_session.download_data(path=\"./autopilot-sample\", bucket=s3_bucket, key_prefix=data_explore_nbk_key)"
   ]
  },
  {
   "cell_type": "code",
   "execution_count": null,
   "id": "3b4d3d2d-2e3a-46f9-b5f3-b9b894f1bc4f",
   "metadata": {
    "tags": []
   },
   "outputs": [],
   "source": [
    "best_candidate = sm_client.describe_auto_ml_job(AutoMLJobName=auto_ml_job_name)[\"BestCandidate\"]\n",
    "best_candidate_name = best_candidate[\"CandidateName\"]\n",
    "print(best_candidate)\n",
    "print(\"\\n\")\n",
    "print(\"CandidateName: \" + best_candidate_name)\n",
    "print(\n",
    "    \"FinalAutoMLJobObjectiveMetricName: \"\n",
    "    + best_candidate[\"FinalAutoMLJobObjectiveMetric\"][\"MetricName\"]\n",
    ")\n",
    "print(\n",
    "    \"FinalAutoMLJobObjectiveMetricValue: \"\n",
    "    + str(best_candidate[\"FinalAutoMLJobObjectiveMetric\"][\"Value\"])\n",
    ")"
   ]
  },
  {
   "cell_type": "code",
   "execution_count": null,
   "id": "e5495c2a-0ee5-4d7b-a1ea-f79d311afcb3",
   "metadata": {},
   "outputs": [],
   "source": []
  },
  {
   "cell_type": "code",
   "execution_count": null,
   "id": "867d5ea0-cd9e-441f-a568-0d4223acbf72",
   "metadata": {},
   "outputs": [],
   "source": []
  }
 ],
 "metadata": {
  "kernelspec": {
   "display_name": "conda_pytorch_p39",
   "language": "python",
   "name": "conda_pytorch_p39"
  },
  "language_info": {
   "codemirror_mode": {
    "name": "ipython",
    "version": 3
   },
   "file_extension": ".py",
   "mimetype": "text/x-python",
   "name": "python",
   "nbconvert_exporter": "python",
   "pygments_lexer": "ipython3",
   "version": "3.9.15"
  }
 },
 "nbformat": 4,
 "nbformat_minor": 5
}
