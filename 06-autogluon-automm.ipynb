{
 "cells": [
  {
   "cell_type": "markdown",
   "id": "eaaf462b-f8fb-45fd-a4d0-75a0dccedd65",
   "metadata": {},
   "source": [
    "## AutoGluon의 강점 중 하나 : AutoMM\n",
    "\n",
    "- autogluon은 tabular, time-series 뿐 아니라 Text/Image 와 이를 조합한 multi-modal 의 기능까지도 가지고 있습니다.\n",
    "- 해당 노트북에서는 이미 앞에 5번에서 autogluon을 설치했다고 가정하고 진행을 합니다.\n",
    "\n",
    "\n"
   ]
  },
  {
   "cell_type": "code",
   "execution_count": null,
   "id": "63b9b215-2400-4028-a5a1-44a1713317df",
   "metadata": {},
   "outputs": [],
   "source": []
  },
  {
   "cell_type": "code",
   "execution_count": null,
   "id": "a5b0a205-4511-40fe-8047-ebf8e4ec4623",
   "metadata": {
    "tags": []
   },
   "outputs": [],
   "source": [
    "from autogluon.multimodal import MultiModalPredictor\n",
    "\n",
    "predictor = MultiModalPredictor(problem_type=\"zero_shot_image_classification\")\n"
   ]
  },
  {
   "cell_type": "code",
   "execution_count": null,
   "id": "bdfd3c01-736d-465c-9aed-b2edac6be818",
   "metadata": {},
   "outputs": [],
   "source": []
  },
  {
   "cell_type": "code",
   "execution_count": null,
   "id": "7cd11691-29d2-4c24-a8b8-50f3b72a6b1e",
   "metadata": {
    "tags": []
   },
   "outputs": [],
   "source": [
    "import os\n",
    "import random\n",
    "from IPython.core.display import HTML\n",
    "test_dir = \"data/wwi-dataset/test\"\n",
    "label_list = os.listdir(test_dir)"
   ]
  },
  {
   "cell_type": "code",
   "execution_count": null,
   "id": "bb0ba481-05bc-4f57-b560-d83e4c22cc9e",
   "metadata": {
    "tags": []
   },
   "outputs": [],
   "source": [
    "print(label_list)"
   ]
  },
  {
   "cell_type": "code",
   "execution_count": null,
   "id": "46d60982-8d2c-40e7-9c71-d2600e197ee7",
   "metadata": {
    "tags": []
   },
   "outputs": [],
   "source": [
    "import numpy as np"
   ]
  },
  {
   "cell_type": "code",
   "execution_count": null,
   "id": "e172a3d8-25c3-427a-88b1-47addc5e774b",
   "metadata": {
    "tags": []
   },
   "outputs": [],
   "source": [
    "for label in label_list:\n",
    "    test_images = os.listdir(os.path.join(test_dir, label))\n",
    "    random.shuffle(test_images)\n",
    "    img_path = os.path.join(test_dir, label, test_images[0])\n",
    "    \n",
    "    prob = predictor.predict_proba({\"image\": [img_path]}, {\"text\": label_list})\n",
    "    label_idx = np.argmax(prob[0])\n",
    "    pred_label = label_list[label_idx]\n",
    "    # print(\"Label probs:\", prob)\n",
    "    # print(pred_label)\n",
    "    display(\n",
    "        HTML(\n",
    "            f'<img src={img_path} alt={img_path} align=\"left\" style=\"width: 250px;\"/>'\n",
    "            f\"<figcaption>Predicted Label: {pred_label}</figcaption>\"\n",
    "        )\n",
    "    )\n",
    "    "
   ]
  },
  {
   "cell_type": "code",
   "execution_count": null,
   "id": "0a1161e5-9021-4d51-9885-f9f939aebfd0",
   "metadata": {},
   "outputs": [],
   "source": []
  },
  {
   "cell_type": "code",
   "execution_count": null,
   "id": "0b9ba66a-d6e6-47d1-9009-a03ef4723c6f",
   "metadata": {
    "tags": []
   },
   "outputs": [],
   "source": []
  },
  {
   "cell_type": "code",
   "execution_count": null,
   "id": "8dd450b1-aacd-46f5-9e63-dc787829ce40",
   "metadata": {},
   "outputs": [],
   "source": [
    "\n"
   ]
  },
  {
   "cell_type": "code",
   "execution_count": null,
   "id": "a33801f1-a255-42bc-bafa-1bd32eca8a0a",
   "metadata": {},
   "outputs": [],
   "source": []
  }
 ],
 "metadata": {
  "kernelspec": {
   "display_name": "conda_pytorch_p39",
   "language": "python",
   "name": "conda_pytorch_p39"
  },
  "language_info": {
   "codemirror_mode": {
    "name": "ipython",
    "version": 3
   },
   "file_extension": ".py",
   "mimetype": "text/x-python",
   "name": "python",
   "nbconvert_exporter": "python",
   "pygments_lexer": "ipython3",
   "version": "3.9.15"
  }
 },
 "nbformat": 4,
 "nbformat_minor": 5
}
