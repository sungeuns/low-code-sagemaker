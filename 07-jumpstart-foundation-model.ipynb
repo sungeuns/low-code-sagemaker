{
 "cells": [
  {
   "cell_type": "markdown",
   "id": "0e852b7b-8873-42ed-8093-b36bafea6b16",
   "metadata": {
    "tags": []
   },
   "source": [
    "## SageMaker Jumpstart\n",
    "\n",
    "- tabular, time series, image, text 등 다양한 task에 대한 모델을 가지고 있습니다.\n",
    "- 기본적인 부분은 sagemaker의 built-in algorithm과 비슷합니다.\n",
    "- 최근에 많이 추가된 기능은 Foundation model 과 관련된 내용들로, Large Language Model, Generative AI 등을 쉽게 사용할 수가 있습니다.\n",
    "\n",
    "\n",
    "### Stable diffusion fine tuning 진행\n",
    "\n",
    "- 내가 원하는 이미지를 생성하는 예시\n",
    "- 블로그 참고 : https://aws.amazon.com/ko/blogs/machine-learning/fine-tune-text-to-image-stable-diffusion-models-with-amazon-sagemaker-jumpstart/\n",
    "- 예시 노트북 : https://github.com/aws/amazon-sagemaker-examples/blob/main/introduction_to_amazon_algorithms/jumpstart_text_to_image/Amazon_JumpStart_Text_To_Image.ipynb\n",
    "  - 데이터 준비 예시 : https://github.com/aws/amazon-sagemaker-examples/blob/main/introduction_to_amazon_algorithms/jumpstart_text_to_image/custom_dog_image_generator.ipynb\n",
    "\n"
   ]
  },
  {
   "cell_type": "code",
   "execution_count": null,
   "id": "c6b2ebee-e120-4bdd-908c-b0be40ec9edf",
   "metadata": {},
   "outputs": [],
   "source": []
  },
  {
   "cell_type": "code",
   "execution_count": null,
   "id": "b9f41b20-10df-4520-a864-99da775a6e16",
   "metadata": {
    "tags": []
   },
   "outputs": [],
   "source": [
    "import sagemaker, boto3, json\n",
    "from sagemaker.session import Session\n",
    "from sagemaker import image_uris, model_uris, script_uris\n",
    "from sagemaker.estimator import Estimator\n",
    "from sagemaker import hyperparameters\n",
    "\n",
    "sagemaker_session = Session()\n",
    "role = sagemaker.get_execution_role()\n",
    "region = boto3.Session().region_name\n",
    "bucket = sagemaker_session.default_bucket()\n",
    "print(bucket)"
   ]
  },
  {
   "cell_type": "code",
   "execution_count": null,
   "id": "dba52183-eb5c-4349-a5d0-235d1f07f975",
   "metadata": {},
   "outputs": [],
   "source": []
  },
  {
   "cell_type": "code",
   "execution_count": null,
   "id": "7c96322a-ba9b-484d-9d96-3420adee79c6",
   "metadata": {
    "tags": []
   },
   "outputs": [],
   "source": [
    "# Currently, not all the stable diffusion models in jumpstart support finetuning. Thus, we manually select a model\n",
    "# which supports finetuning.\n",
    "train_model_id, train_model_version, train_scope = (\n",
    "    \"model-txt2img-stabilityai-stable-diffusion-v2-1-base\",\n",
    "    \"*\",\n",
    "    \"training\",\n",
    ")\n",
    "\n",
    "# Tested with ml.g4dn.2xlarge (16GB GPU memory) and ml.g5.2xlarge (24GB GPU memory) instances. Other instances may work as well.\n",
    "# If ml.g5.2xlarge instance type is available, please change the following instance type to speed up training.\n",
    "# training_instance_type = \"ml.g5.2xlarge\"\n",
    "training_instance_type = \"ml.g4dn.xlarge\"   # seoul region은 g5 없으므로 g4dn 등 사용 가능\n",
    "\n",
    "# Retrieve the docker image\n",
    "train_image_uri = image_uris.retrieve(\n",
    "    region=None,\n",
    "    framework=None,  # automatically inferred from model_id\n",
    "    model_id=train_model_id,\n",
    "    model_version=train_model_version,\n",
    "    image_scope=train_scope,\n",
    "    instance_type=training_instance_type,\n",
    ")\n",
    "\n",
    "# Retrieve the training script. This contains all the necessary files including data processing, model training etc.\n",
    "train_source_uri = script_uris.retrieve(\n",
    "    model_id=train_model_id, model_version=train_model_version, script_scope=train_scope\n",
    ")\n",
    "\n",
    "# Retrieve the pre-trained model tarball to further fine-tune\n",
    "train_model_uri = model_uris.retrieve(\n",
    "    model_id=train_model_id, model_version=train_model_version, model_scope=train_scope\n",
    ")"
   ]
  },
  {
   "cell_type": "code",
   "execution_count": null,
   "id": "8541b87e-2221-485a-b606-9cc2171af50d",
   "metadata": {
    "tags": []
   },
   "outputs": [],
   "source": [
    "print(train_image_uri)\n",
    "print(train_source_uri)\n",
    "print(train_model_uri)"
   ]
  },
  {
   "cell_type": "code",
   "execution_count": null,
   "id": "41c7aac3-07bc-4235-a91f-d6abaa81f1ea",
   "metadata": {
    "tags": []
   },
   "outputs": [],
   "source": [
    "# Retrieve the default hyper-parameters for fine-tuning the model\n",
    "hyper_params = hyperparameters.retrieve_default(\n",
    "    model_id=train_model_id, model_version=train_model_version\n",
    ")\n",
    "\n",
    "# [Optional] Override default hyperparameters with custom values\n",
    "hyper_params[\"max_steps\"] = \"200\"   # 높일수록 더 해당 사진과 비슷한 형태가 되지만, overfiting 될 수 있음.\n",
    "# hyper_params[\"with_prior_preservation\"] = \"True\"  # it needs more memory"
   ]
  },
  {
   "cell_type": "code",
   "execution_count": null,
   "id": "24ab8cd1-e648-438d-965b-b1e14374db14",
   "metadata": {
    "tags": []
   },
   "outputs": [],
   "source": [
    "print(hyper_params)"
   ]
  },
  {
   "cell_type": "code",
   "execution_count": null,
   "id": "b2c42f3b-3581-4e52-9d15-4430db818e8d",
   "metadata": {
    "tags": []
   },
   "outputs": [],
   "source": [
    "from sagemaker.utils import name_from_base\n",
    "\n",
    "s3_output_location = f\"s3://{bucket}/lowcode-sm/logs/sd-fd-output/\"\n",
    "training_job_name = name_from_base(f\"sd-fine-tuning-{train_model_id}\")\n",
    "print(training_job_name)"
   ]
  },
  {
   "cell_type": "code",
   "execution_count": null,
   "id": "272102f4-897a-4115-86b8-e0b1c7e65212",
   "metadata": {
    "tags": []
   },
   "outputs": [],
   "source": [
    "\n",
    "# Create SageMaker Estimator instance\n",
    "sd_estimator = Estimator(\n",
    "    role=role,\n",
    "    image_uri=train_image_uri,\n",
    "    source_dir=train_source_uri,\n",
    "    model_uri=train_model_uri,\n",
    "    entry_point=\"transfer_learning.py\",  # Entry-point file in source_dir and present in train_source_uri.\n",
    "    instance_count=1,\n",
    "    instance_type=training_instance_type,\n",
    "    max_run=360000,\n",
    "    hyperparameters=hyper_params,\n",
    "    output_path=s3_output_location,\n",
    "    base_job_name=training_job_name,\n",
    ")\n"
   ]
  },
  {
   "cell_type": "code",
   "execution_count": null,
   "id": "719842c7-931b-41f5-a9eb-03562ebd8f98",
   "metadata": {},
   "outputs": [],
   "source": []
  },
  {
   "cell_type": "code",
   "execution_count": null,
   "id": "eba24b10-bc23-4993-a916-dcc024c7e87c",
   "metadata": {
    "tags": []
   },
   "outputs": [],
   "source": [
    "\n",
    "import os\n",
    "import json\n",
    "import random\n",
    "import shutil\n",
    "\n",
    "test_dir = \"data/wwi-dataset/test\"\n",
    "label_list = os.listdir(test_dir)\n",
    "print(label_list)"
   ]
  },
  {
   "cell_type": "code",
   "execution_count": null,
   "id": "fe59c0de-4d3e-4e76-b147-9e51837ff1df",
   "metadata": {
    "tags": []
   },
   "outputs": [],
   "source": [
    "label = \"stonehenge\"\n",
    "\n",
    "dir_path = f\"./sd-ft/{label}\"\n",
    "os.makedirs(dir_path, exist_ok=True)\n",
    "instance_prompt = \"A photo of my grandfather's home\"\n",
    "with open(os.path.join(dir_path, \"dataset_info.json\"), \"w\") as f:\n",
    "    f.write(json.dumps({\"instance_prompt\": instance_prompt}))\n",
    "\n",
    "test_images = os.listdir(os.path.join(test_dir, label))\n",
    "random.shuffle(test_images)\n",
    "\n",
    "for test_image in test_images[:8]:\n",
    "    img_path = os.path.join(test_dir, label, test_image)\n",
    "    dst_path = os.path.join(dir_path, test_image)\n",
    "    shutil.copyfile(img_path, dst_path)"
   ]
  },
  {
   "cell_type": "code",
   "execution_count": null,
   "id": "5b65f8a2-5752-4bbf-a0b7-759f9a8ac302",
   "metadata": {
    "tags": []
   },
   "outputs": [],
   "source": [
    "train_s3_path = f\"s3://{bucket}/lowcode-sm/sd-ft/{label}/\"\n",
    "!aws s3 cp --exclude \".ipynb_checkpoints*\" --recursive $dir_path $train_s3_path "
   ]
  },
  {
   "cell_type": "code",
   "execution_count": null,
   "id": "0d9d4a00-aa05-40a0-886e-e126c27c9a2e",
   "metadata": {
    "tags": []
   },
   "outputs": [],
   "source": [
    "print(train_s3_path)"
   ]
  },
  {
   "cell_type": "code",
   "execution_count": null,
   "id": "a58a7010-7b9f-4824-bb54-13033caa7dc3",
   "metadata": {
    "tags": []
   },
   "outputs": [],
   "source": [
    "# Launch a SageMaker Training job by passing s3 path of the training data\n",
    "sd_estimator.fit({\"training\": train_s3_path}, logs=True)"
   ]
  },
  {
   "cell_type": "code",
   "execution_count": null,
   "id": "692468a4-7d8f-4a11-92d2-6acf21997721",
   "metadata": {
    "tags": []
   },
   "outputs": [],
   "source": [
    "# training_job_name = \"[training job 이름]\"\n",
    "# sd_estimator = Estimator.attach(training_job_name)"
   ]
  },
  {
   "cell_type": "code",
   "execution_count": null,
   "id": "af54d7a2-139c-4ed7-b93a-441ff14660a3",
   "metadata": {},
   "outputs": [],
   "source": []
  },
  {
   "cell_type": "code",
   "execution_count": null,
   "id": "44c13b00-2364-4f57-9e64-21896d206002",
   "metadata": {
    "tags": []
   },
   "outputs": [],
   "source": [
    "inference_instance_type = \"ml.g4dn.2xlarge\"\n",
    "\n",
    "# Retrieve the inference docker container uri\n",
    "deploy_image_uri = image_uris.retrieve(\n",
    "    region=None,\n",
    "    framework=None,  # automatically inferred from model_id\n",
    "    image_scope=\"inference\",\n",
    "    model_id=train_model_id,\n",
    "    model_version=train_model_version,\n",
    "    instance_type=inference_instance_type,\n",
    ")\n",
    "# Retrieve the inference script uri. This includes scripts for model loading, inference handling etc.\n",
    "deploy_source_uri = script_uris.retrieve(\n",
    "    model_id=train_model_id, model_version=train_model_version, script_scope=\"inference\"\n",
    ")\n",
    "\n",
    "endpoint_name = name_from_base(f\"sd-ft-{train_model_id}-\")\n"
   ]
  },
  {
   "cell_type": "code",
   "execution_count": null,
   "id": "b6d900f4-7c62-496e-a1e6-f246d5827f55",
   "metadata": {
    "tags": []
   },
   "outputs": [],
   "source": [
    "print(deploy_image_uri)\n",
    "print(deploy_source_uri)\n"
   ]
  },
  {
   "cell_type": "code",
   "execution_count": null,
   "id": "a0421a02-f857-42ab-a7ed-32df88ff3c11",
   "metadata": {
    "tags": []
   },
   "outputs": [],
   "source": [
    "\n",
    "# Use the estimator from the previous step to deploy to a SageMaker endpoint\n",
    "finetuned_predictor = sd_estimator.deploy(\n",
    "    initial_instance_count=1,\n",
    "    instance_type=inference_instance_type,\n",
    "    entry_point=\"inference.py\",  # entry point file in source_dir and present in deploy_source_uri\n",
    "    image_uri=deploy_image_uri,\n",
    "    source_dir=deploy_source_uri,\n",
    "    endpoint_name=endpoint_name,\n",
    ")\n",
    "# print(finetuned_predictor)\n"
   ]
  },
  {
   "cell_type": "code",
   "execution_count": null,
   "id": "2156e5bc-5d6a-4d34-9e7a-3cf1d9238b5e",
   "metadata": {
    "tags": []
   },
   "outputs": [],
   "source": [
    "import matplotlib.pyplot as plt\n",
    "import numpy as np\n",
    "\n",
    "\n",
    "def query(model_predictor, text):\n",
    "    \"\"\"Query the model predictor.\"\"\"\n",
    "\n",
    "    encoded_text = text.encode(\"utf-8\")\n",
    "\n",
    "    query_response = model_predictor.predict(\n",
    "        encoded_text,\n",
    "        {\n",
    "            \"ContentType\": \"application/x-text\",\n",
    "            \"Accept\": \"application/json\",\n",
    "        },\n",
    "    )\n",
    "    return query_response\n",
    "\n",
    "\n",
    "def parse_response(query_response):\n",
    "    \"\"\"Parse response and return generated image and the prompt\"\"\"\n",
    "\n",
    "    response_dict = json.loads(query_response)\n",
    "    return response_dict[\"generated_image\"], response_dict[\"prompt\"]\n",
    "\n",
    "\n",
    "def display_img_and_prompt(img, prmpt):\n",
    "    \"\"\"Display hallucinated image.\"\"\"\n",
    "    plt.figure(figsize=(12, 12))\n",
    "    plt.imshow(np.array(img))\n",
    "    plt.axis(\"off\")\n",
    "    plt.title(prmpt)\n",
    "    plt.show()"
   ]
  },
  {
   "cell_type": "code",
   "execution_count": null,
   "id": "8fd7fb25-561c-40c7-83e9-a397f51160e7",
   "metadata": {},
   "outputs": [],
   "source": []
  },
  {
   "cell_type": "code",
   "execution_count": null,
   "id": "2cd52ce3-110d-4276-bfff-1d6a620f3324",
   "metadata": {
    "tags": []
   },
   "outputs": [],
   "source": [
    "text = \"A photo of my grandfather's house\"\n",
    "query_response = query(finetuned_predictor, text)\n",
    "img, prmpt = parse_response(query_response)\n",
    "display_img_and_prompt(img, prmpt)"
   ]
  },
  {
   "cell_type": "code",
   "execution_count": null,
   "id": "8a6c994d-7442-4774-8c3f-1caf1c7d521f",
   "metadata": {},
   "outputs": [],
   "source": []
  },
  {
   "cell_type": "code",
   "execution_count": null,
   "id": "ab5c7844-f625-4bcd-9b78-fdfc8eed6c61",
   "metadata": {
    "tags": []
   },
   "outputs": [],
   "source": [
    "text = \"A photo of coke next to my grandfather's home\"\n",
    "query_response = query(finetuned_predictor, text)\n",
    "img, prmpt = parse_response(query_response)\n",
    "display_img_and_prompt(img, prmpt)"
   ]
  },
  {
   "cell_type": "code",
   "execution_count": null,
   "id": "bb5225e6-6d25-4066-86c8-02a724588690",
   "metadata": {},
   "outputs": [],
   "source": []
  },
  {
   "cell_type": "code",
   "execution_count": null,
   "id": "49a96669-d398-4c19-b6bb-99b1e5b3a974",
   "metadata": {},
   "outputs": [],
   "source": []
  }
 ],
 "metadata": {
  "kernelspec": {
   "display_name": "conda_pytorch_p39",
   "language": "python",
   "name": "conda_pytorch_p39"
  },
  "language_info": {
   "codemirror_mode": {
    "name": "ipython",
    "version": 3
   },
   "file_extension": ".py",
   "mimetype": "text/x-python",
   "name": "python",
   "nbconvert_exporter": "python",
   "pygments_lexer": "ipython3",
   "version": "3.9.15"
  }
 },
 "nbformat": 4,
 "nbformat_minor": 5
}
