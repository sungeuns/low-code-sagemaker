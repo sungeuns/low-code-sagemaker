{
 "cells": [
  {
   "cell_type": "markdown",
   "id": "4b444525-b581-4fce-8105-efcb4136d4e8",
   "metadata": {},
   "source": [
    "## AutoGluon 활용\n",
    "\n",
    "- tabular (housing price) : 앞에 autopilot과 동일한 데이터셋에 대해서 테스트\n",
    "\n",
    "\n",
    "\n",
    "### 참고할 점\n",
    "- autopilot 이 내부적으로 autogluon을 사용 함 : https://aws.amazon.com/ko/blogs/machine-learning/amazon-sagemaker-autopilot-is-up-to-eight-times-faster-with-new-ensemble-training-mode-powered-by-autogluon/\n",
    "- autogluon 을 sagemaker 활용해서 학습 가능 : https://auto.gluon.ai/stable/tutorials/cloud_fit_deploy/cloud-aws-sagemaker-training.html#"
   ]
  },
  {
   "cell_type": "code",
   "execution_count": null,
   "id": "b99846d2-dfc3-46f4-b2b0-c469430438b8",
   "metadata": {
    "tags": []
   },
   "outputs": [],
   "source": [
    "# 설치가 필요한 경우 아래 주석을 제거해 주세요\n",
    "!pip install -q autogluon"
   ]
  },
  {
   "cell_type": "code",
   "execution_count": null,
   "id": "6e1b1cd3-3bf0-4ec3-8a24-951f66da5046",
   "metadata": {
    "tags": []
   },
   "outputs": [],
   "source": [
    "import pandas as pd\n",
    "import numpy as np\n",
    "\n",
    "from autogluon.tabular import TabularDataset, TabularPredictor"
   ]
  },
  {
   "cell_type": "code",
   "execution_count": null,
   "id": "19656357-dfa3-4895-b137-fee5dec62d48",
   "metadata": {
    "tags": []
   },
   "outputs": [],
   "source": [
    "from sagemaker.session import Session\n",
    "\n",
    "sagemaker_session = Session()\n",
    "bucket = sagemaker_session.default_bucket()\n",
    "print(bucket)"
   ]
  },
  {
   "cell_type": "code",
   "execution_count": null,
   "id": "e506f843-ebf2-4231-a5c3-fe72c0ba95cb",
   "metadata": {
    "tags": []
   },
   "outputs": [],
   "source": [
    "train_s3_path = f\"s3://{bucket}/lowcode-sm/hp/train.csv\"\n",
    "train_df = pd.read_csv(train_s3_path)\n",
    "train_df"
   ]
  },
  {
   "cell_type": "code",
   "execution_count": null,
   "id": "74073080-b83d-4c69-890b-c726e9d01efe",
   "metadata": {
    "tags": []
   },
   "outputs": [],
   "source": [
    "test_s3_path = f\"s3://{bucket}/lowcode-sm/hp/test.csv\"\n",
    "test_df = pd.read_csv(test_s3_path)\n",
    "test_df"
   ]
  },
  {
   "cell_type": "code",
   "execution_count": null,
   "id": "c2018025-73b4-42cc-ada1-027c7facb7fe",
   "metadata": {
    "tags": []
   },
   "outputs": [],
   "source": [
    "label = \"SalePrice\""
   ]
  },
  {
   "cell_type": "code",
   "execution_count": null,
   "id": "81547c74-7fd6-40a5-82ea-5b4e9367b29d",
   "metadata": {
    "tags": []
   },
   "outputs": [],
   "source": [
    "train_data = TabularDataset(train_s3_path)\n",
    "test_data = TabularDataset(test_s3_path)\n"
   ]
  },
  {
   "cell_type": "code",
   "execution_count": null,
   "id": "d417563f-47c8-49b7-b3b4-8e11790d8fee",
   "metadata": {
    "tags": []
   },
   "outputs": [],
   "source": [
    "predictor = TabularPredictor(label=label).fit(train_data=train_data)\n"
   ]
  },
  {
   "cell_type": "code",
   "execution_count": null,
   "id": "5d8c775c-09ca-4ddf-8955-4cc72c19700b",
   "metadata": {
    "tags": []
   },
   "outputs": [],
   "source": [
    "predictions = predictor.predict(test_data)"
   ]
  },
  {
   "cell_type": "code",
   "execution_count": null,
   "id": "023d8f04-5b22-489e-a6a2-56cb6b7cb714",
   "metadata": {
    "tags": []
   },
   "outputs": [],
   "source": [
    "print(predictions)"
   ]
  },
  {
   "cell_type": "code",
   "execution_count": null,
   "id": "3024bb35-7134-424c-9141-a687a0402a27",
   "metadata": {},
   "outputs": [],
   "source": []
  },
  {
   "cell_type": "code",
   "execution_count": null,
   "id": "537b8395-ebe3-437d-ac35-e7fa6283d14d",
   "metadata": {},
   "outputs": [],
   "source": []
  },
  {
   "cell_type": "code",
   "execution_count": null,
   "id": "ab480891-3a1f-47b5-9700-10afaa11e6b9",
   "metadata": {},
   "outputs": [],
   "source": []
  }
 ],
 "metadata": {
  "kernelspec": {
   "display_name": "conda_pytorch_p39",
   "language": "python",
   "name": "conda_pytorch_p39"
  },
  "language_info": {
   "codemirror_mode": {
    "name": "ipython",
    "version": 3
   },
   "file_extension": ".py",
   "mimetype": "text/x-python",
   "name": "python",
   "nbconvert_exporter": "python",
   "pygments_lexer": "ipython3",
   "version": "3.9.15"
  }
 },
 "nbformat": 4,
 "nbformat_minor": 5
}
